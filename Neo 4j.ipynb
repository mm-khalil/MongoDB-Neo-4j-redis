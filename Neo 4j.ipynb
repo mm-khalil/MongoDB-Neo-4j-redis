{
 "cells": [
  {
   "cell_type": "code",
   "execution_count": 1,
   "id": "77f4e19a",
   "metadata": {},
   "outputs": [
    {
     "ename": "ServiceUnavailable",
     "evalue": "Cannot connect to any known routers",
     "output_type": "error",
     "traceback": [
      "\u001b[1;31m---------------------------------------------------------------------------\u001b[0m",
      "\u001b[1;31mServiceUnavailable\u001b[0m                        Traceback (most recent call last)",
      "\u001b[1;32m~\\AppData\\Local\\Temp/ipykernel_5576/4149121232.py\u001b[0m in \u001b[0;36m<module>\u001b[1;34m\u001b[0m\n\u001b[0;32m     10\u001b[0m \u001b[1;31m# Find where Gilbert went and which zip code the business is in\u001b[0m\u001b[1;33m\u001b[0m\u001b[1;33m\u001b[0m\u001b[0m\n\u001b[0;32m     11\u001b[0m \u001b[1;31m# Using :ISLOCATED only shows the zip (directional + relation specified)\u001b[0m\u001b[1;33m\u001b[0m\u001b[1;33m\u001b[0m\u001b[0m\n\u001b[1;32m---> 12\u001b[1;33m result = g.run(\"MATCH (p:Person)-[VISITED]-(Business)-[:ISLOCATED]-(Zip)\\\n\u001b[0m\u001b[0;32m     13\u001b[0m                 \u001b[0mWHERE\u001b[0m \u001b[0mp\u001b[0m\u001b[1;33m.\u001b[0m\u001b[0muser_name\u001b[0m \u001b[1;33m=\u001b[0m \u001b[1;34m'Gilbert Harris'\u001b[0m\u001b[0;31m\\\u001b[0m\u001b[1;33m\u001b[0m\u001b[1;33m\u001b[0m\u001b[0m\n\u001b[0;32m     14\u001b[0m                 RETURN p,Business,Zip\").data()\n",
      "\u001b[1;32m~\\anaconda3\\lib\\site-packages\\py2neo\\database.py\u001b[0m in \u001b[0;36mrun\u001b[1;34m(self, cypher, parameters, **kwparameters)\u001b[0m\n\u001b[0;32m    403\u001b[0m         \u001b[1;33m:\u001b[0m\u001b[1;32mreturn\u001b[0m\u001b[1;33m:\u001b[0m\u001b[1;33m\u001b[0m\u001b[1;33m\u001b[0m\u001b[0m\n\u001b[0;32m    404\u001b[0m         \"\"\"\n\u001b[1;32m--> 405\u001b[1;33m         \u001b[1;32mreturn\u001b[0m \u001b[0mself\u001b[0m\u001b[1;33m.\u001b[0m\u001b[0mauto\u001b[0m\u001b[1;33m(\u001b[0m\u001b[1;33m)\u001b[0m\u001b[1;33m.\u001b[0m\u001b[0mrun\u001b[0m\u001b[1;33m(\u001b[0m\u001b[0mcypher\u001b[0m\u001b[1;33m,\u001b[0m \u001b[0mparameters\u001b[0m\u001b[1;33m,\u001b[0m \u001b[1;33m**\u001b[0m\u001b[0mkwparameters\u001b[0m\u001b[1;33m)\u001b[0m\u001b[1;33m\u001b[0m\u001b[1;33m\u001b[0m\u001b[0m\n\u001b[0m\u001b[0;32m    406\u001b[0m \u001b[1;33m\u001b[0m\u001b[0m\n\u001b[0;32m    407\u001b[0m     \u001b[1;32mdef\u001b[0m \u001b[0mevaluate\u001b[0m\u001b[1;33m(\u001b[0m\u001b[0mself\u001b[0m\u001b[1;33m,\u001b[0m \u001b[0mcypher\u001b[0m\u001b[1;33m,\u001b[0m \u001b[0mparameters\u001b[0m\u001b[1;33m=\u001b[0m\u001b[1;32mNone\u001b[0m\u001b[1;33m,\u001b[0m \u001b[1;33m**\u001b[0m\u001b[0mkwparameters\u001b[0m\u001b[1;33m)\u001b[0m\u001b[1;33m:\u001b[0m\u001b[1;33m\u001b[0m\u001b[1;33m\u001b[0m\u001b[0m\n",
      "\u001b[1;32m~\\anaconda3\\lib\\site-packages\\py2neo\\database.py\u001b[0m in \u001b[0;36mrun\u001b[1;34m(self, cypher, parameters, **kwparameters)\u001b[0m\n\u001b[0;32m    987\u001b[0m                 \u001b[0mresult\u001b[0m \u001b[1;33m=\u001b[0m \u001b[0mself\u001b[0m\u001b[1;33m.\u001b[0m\u001b[0m_connector\u001b[0m\u001b[1;33m.\u001b[0m\u001b[0mrun\u001b[0m\u001b[1;33m(\u001b[0m\u001b[0mself\u001b[0m\u001b[1;33m.\u001b[0m\u001b[0mref\u001b[0m\u001b[1;33m,\u001b[0m \u001b[0mcypher\u001b[0m\u001b[1;33m,\u001b[0m \u001b[0mparameters\u001b[0m\u001b[1;33m)\u001b[0m\u001b[1;33m\u001b[0m\u001b[1;33m\u001b[0m\u001b[0m\n\u001b[0;32m    988\u001b[0m             \u001b[1;32melse\u001b[0m\u001b[1;33m:\u001b[0m\u001b[1;33m\u001b[0m\u001b[1;33m\u001b[0m\u001b[0m\n\u001b[1;32m--> 989\u001b[1;33m                 result = self._connector.auto_run(cypher, parameters,\n\u001b[0m\u001b[0;32m    990\u001b[0m                                                   \u001b[0mgraph_name\u001b[0m\u001b[1;33m=\u001b[0m\u001b[0mself\u001b[0m\u001b[1;33m.\u001b[0m\u001b[0mgraph\u001b[0m\u001b[1;33m.\u001b[0m\u001b[0mname\u001b[0m\u001b[1;33m,\u001b[0m\u001b[1;33m\u001b[0m\u001b[1;33m\u001b[0m\u001b[0m\n\u001b[0;32m    991\u001b[0m                                                   readonly=self.readonly)\n",
      "\u001b[1;32m~\\anaconda3\\lib\\site-packages\\py2neo\\client\\__init__.py\u001b[0m in \u001b[0;36mauto_run\u001b[1;34m(self, cypher, parameters, graph_name, readonly)\u001b[0m\n\u001b[0;32m   1336\u001b[0m             \u001b[0mcannot\u001b[0m \u001b[0mbe\u001b[0m \u001b[0mhonoured\u001b[0m\u001b[1;33m\u001b[0m\u001b[1;33m\u001b[0m\u001b[0m\n\u001b[0;32m   1337\u001b[0m         \"\"\"\n\u001b[1;32m-> 1338\u001b[1;33m         \u001b[0mcx\u001b[0m \u001b[1;33m=\u001b[0m \u001b[0mself\u001b[0m\u001b[1;33m.\u001b[0m\u001b[0m_acquire\u001b[0m\u001b[1;33m(\u001b[0m\u001b[0mgraph_name\u001b[0m\u001b[1;33m)\u001b[0m\u001b[1;33m\u001b[0m\u001b[1;33m\u001b[0m\u001b[0m\n\u001b[0m\u001b[0;32m   1339\u001b[0m         \u001b[1;32mtry\u001b[0m\u001b[1;33m:\u001b[0m\u001b[1;33m\u001b[0m\u001b[1;33m\u001b[0m\u001b[0m\n\u001b[0;32m   1340\u001b[0m             \u001b[1;32mreturn\u001b[0m \u001b[0mcx\u001b[0m\u001b[1;33m.\u001b[0m\u001b[0mauto_run\u001b[0m\u001b[1;33m(\u001b[0m\u001b[0mcypher\u001b[0m\u001b[1;33m,\u001b[0m \u001b[0mparameters\u001b[0m\u001b[1;33m,\u001b[0m \u001b[0mgraph_name\u001b[0m\u001b[1;33m=\u001b[0m\u001b[0mgraph_name\u001b[0m\u001b[1;33m,\u001b[0m \u001b[0mreadonly\u001b[0m\u001b[1;33m=\u001b[0m\u001b[0mreadonly\u001b[0m\u001b[1;33m)\u001b[0m\u001b[1;33m\u001b[0m\u001b[1;33m\u001b[0m\u001b[0m\n",
      "\u001b[1;32m~\\anaconda3\\lib\\site-packages\\py2neo\\client\\__init__.py\u001b[0m in \u001b[0;36m_acquire\u001b[1;34m(self, graph_name, readonly)\u001b[0m\n\u001b[0;32m   1109\u001b[0m             \u001b[1;32mreturn\u001b[0m \u001b[0mself\u001b[0m\u001b[1;33m.\u001b[0m\u001b[0m_acquire_ro\u001b[0m\u001b[1;33m(\u001b[0m\u001b[0mgraph_name\u001b[0m\u001b[1;33m)\u001b[0m\u001b[1;33m\u001b[0m\u001b[1;33m\u001b[0m\u001b[0m\n\u001b[0;32m   1110\u001b[0m         \u001b[1;32melse\u001b[0m\u001b[1;33m:\u001b[0m\u001b[1;33m\u001b[0m\u001b[1;33m\u001b[0m\u001b[0m\n\u001b[1;32m-> 1111\u001b[1;33m             \u001b[1;32mreturn\u001b[0m \u001b[0mself\u001b[0m\u001b[1;33m.\u001b[0m\u001b[0m_acquire_rw\u001b[0m\u001b[1;33m(\u001b[0m\u001b[0mgraph_name\u001b[0m\u001b[1;33m)\u001b[0m\u001b[1;33m\u001b[0m\u001b[1;33m\u001b[0m\u001b[0m\n\u001b[0m\u001b[0;32m   1112\u001b[0m \u001b[1;33m\u001b[0m\u001b[0m\n\u001b[0;32m   1113\u001b[0m     \u001b[1;32mdef\u001b[0m \u001b[0m_acquire_ro\u001b[0m\u001b[1;33m(\u001b[0m\u001b[0mself\u001b[0m\u001b[1;33m,\u001b[0m \u001b[0mgraph_name\u001b[0m\u001b[1;33m=\u001b[0m\u001b[1;32mNone\u001b[0m\u001b[1;33m)\u001b[0m\u001b[1;33m:\u001b[0m\u001b[1;33m\u001b[0m\u001b[1;33m\u001b[0m\u001b[0m\n",
      "\u001b[1;32m~\\anaconda3\\lib\\site-packages\\py2neo\\client\\__init__.py\u001b[0m in \u001b[0;36m_acquire_rw\u001b[1;34m(self, graph_name)\u001b[0m\n\u001b[0;32m   1201\u001b[0m         \u001b[1;32mwhile\u001b[0m \u001b[1;32mTrue\u001b[0m\u001b[1;33m:\u001b[0m\u001b[1;33m\u001b[0m\u001b[1;33m\u001b[0m\u001b[0m\n\u001b[0;32m   1202\u001b[0m \u001b[1;33m\u001b[0m\u001b[0m\n\u001b[1;32m-> 1203\u001b[1;33m             \u001b[0mro_profiles\u001b[0m\u001b[1;33m,\u001b[0m \u001b[0mrw_profiles\u001b[0m \u001b[1;33m=\u001b[0m \u001b[0mself\u001b[0m\u001b[1;33m.\u001b[0m\u001b[0m_get_profiles\u001b[0m\u001b[1;33m(\u001b[0m\u001b[0mgraph_name\u001b[0m\u001b[1;33m,\u001b[0m \u001b[0mreadonly\u001b[0m\u001b[1;33m=\u001b[0m\u001b[1;32mFalse\u001b[0m\u001b[1;33m)\u001b[0m\u001b[1;33m\u001b[0m\u001b[1;33m\u001b[0m\u001b[0m\n\u001b[0m\u001b[0;32m   1204\u001b[0m             \u001b[1;32mif\u001b[0m \u001b[0mrw_profiles\u001b[0m\u001b[1;33m:\u001b[0m\u001b[1;33m\u001b[0m\u001b[1;33m\u001b[0m\u001b[0m\n\u001b[0;32m   1205\u001b[0m                 \u001b[1;31m# There is at least one writer, so collect the pools\u001b[0m\u001b[1;33m\u001b[0m\u001b[1;33m\u001b[0m\u001b[0m\n",
      "\u001b[1;32m~\\anaconda3\\lib\\site-packages\\py2neo\\client\\__init__.py\u001b[0m in \u001b[0;36m_get_profiles\u001b[1;34m(self, graph_name, readonly)\u001b[0m\n\u001b[0;32m   1014\u001b[0m                     \u001b[0mrt\u001b[0m\u001b[1;33m.\u001b[0m\u001b[0mwait_until_updated\u001b[0m\u001b[1;33m(\u001b[0m\u001b[1;33m)\u001b[0m\u001b[1;33m\u001b[0m\u001b[1;33m\u001b[0m\u001b[0m\n\u001b[0;32m   1015\u001b[0m             \u001b[1;32melse\u001b[0m\u001b[1;33m:\u001b[0m\u001b[1;33m\u001b[0m\u001b[1;33m\u001b[0m\u001b[0m\n\u001b[1;32m-> 1016\u001b[1;33m                 \u001b[0mself\u001b[0m\u001b[1;33m.\u001b[0m\u001b[0mrefresh_routing_table\u001b[0m\u001b[1;33m(\u001b[0m\u001b[0mgraph_name\u001b[0m\u001b[1;33m)\u001b[0m\u001b[1;33m\u001b[0m\u001b[1;33m\u001b[0m\u001b[0m\n\u001b[0m\u001b[0;32m   1017\u001b[0m \u001b[1;33m\u001b[0m\u001b[0m\n\u001b[0;32m   1018\u001b[0m     \u001b[1;32mdef\u001b[0m \u001b[0mrefresh_routing_table\u001b[0m\u001b[1;33m(\u001b[0m\u001b[0mself\u001b[0m\u001b[1;33m,\u001b[0m \u001b[0mgraph_name\u001b[0m\u001b[1;33m)\u001b[0m\u001b[1;33m:\u001b[0m\u001b[1;33m\u001b[0m\u001b[1;33m\u001b[0m\u001b[0m\n",
      "\u001b[1;32m~\\anaconda3\\lib\\site-packages\\py2neo\\client\\__init__.py\u001b[0m in \u001b[0;36mrefresh_routing_table\u001b[1;34m(self, graph_name)\u001b[0m\n\u001b[0;32m   1062\u001b[0m                         \u001b[0mcx\u001b[0m\u001b[1;33m.\u001b[0m\u001b[0mrelease\u001b[0m\u001b[1;33m(\u001b[0m\u001b[1;33m)\u001b[0m\u001b[1;33m\u001b[0m\u001b[1;33m\u001b[0m\u001b[0m\n\u001b[0;32m   1063\u001b[0m             \u001b[1;32melse\u001b[0m\u001b[1;33m:\u001b[0m\u001b[1;33m\u001b[0m\u001b[1;33m\u001b[0m\u001b[0m\n\u001b[1;32m-> 1064\u001b[1;33m                 \u001b[1;32mraise\u001b[0m \u001b[0mServiceUnavailable\u001b[0m\u001b[1;33m(\u001b[0m\u001b[1;34m\"Cannot connect to any known routers\"\u001b[0m\u001b[1;33m)\u001b[0m\u001b[1;33m\u001b[0m\u001b[1;33m\u001b[0m\u001b[0m\n\u001b[0m\u001b[0;32m   1065\u001b[0m         \u001b[1;32mfinally\u001b[0m\u001b[1;33m:\u001b[0m\u001b[1;33m\u001b[0m\u001b[1;33m\u001b[0m\u001b[0m\n\u001b[0;32m   1066\u001b[0m             \u001b[0mrt\u001b[0m\u001b[1;33m.\u001b[0m\u001b[0mset_not_updating\u001b[0m\u001b[1;33m(\u001b[0m\u001b[1;33m)\u001b[0m\u001b[1;33m\u001b[0m\u001b[1;33m\u001b[0m\u001b[0m\n",
      "\u001b[1;31mServiceUnavailable\u001b[0m: Cannot connect to any known routers"
     ]
    }
   ],
   "source": [
    "from py2neo import Graph\n",
    "\n",
    "import pprint\n",
    "\n",
    "# create connection\n",
    "g = Graph(\"neo4j+s://533a5787.databases.neo4j.io\", auth=(\"neo4j\", \"yFDQiYSLutuTv0-0KXQkdKDT6f3RJITRpT2lUn9B2pI\"))\n",
    "\n",
    "# [Example 1]\n",
    "\n",
    "# Find where Gilbert went and which zip code the business is in\n",
    "# Using :ISLOCATED only shows the zip (directional + relation specified)\n",
    "result = g.run(\"MATCH (p:Person)-[VISITED]-(Business)-[:ISLOCATED]-(Zip)\\\n",
    "                WHERE p.user_name = 'Gilbert Harris'\\\n",
    "                RETURN p,Business,Zip\").data()\n",
    "#pprint.pprint(result)\n",
    "pprint.pprint(len(result))\n",
    "\n",
    "### Same thing just with an arrow instead of naming the relationship\n",
    "result = g.run(\"MATCH (p:Person)-->(Business)-->(Zip)\\\n",
    "                WHERE p.user_name = 'Gilbert Harris'\\\n",
    "                RETURN p,Business,Zip\").data()\n",
    "#pprint.pprint(result)\n",
    "pprint.pprint(len(result))\n",
    "\n",
    "### Matches more, because the zip doesnt have a direction\n",
    "# Go to AuraDB query UI\n",
    "result = g.run(\"MATCH (p:Person)--(Business)--(Zip)\\\n",
    "                WHERE p.user_name = 'Gilbert Harris'\\\n",
    "                RETURN p,Business,Zip\").data()\n",
    "#pprint.pprint(result)\n",
    "pprint.pprint(len(result))\n",
    "\n",
    "\n",
    "\n",
    "# [Example 2]\n",
    "### Find everyone who went to a Bank using a regex\n",
    "### Play around with the relation and see different results try (-- or <-- or --> ) and expore the results\n",
    "result = g.run(\"MATCH (Business)-[vis:VISITED]-(Person)\\\n",
    "                WHERE Business.business_name =~ '.*Bank.*'\\\n",
    "                RETURN Business,Person\").data()\n",
    "#pprint.pprint(result)\n",
    "pprint.pprint(len(result))\n",
    "\n",
    "### Find everyone who visited a bank on Jan 3rd\n",
    "result = g.run(\"MATCH (p:Person)-[vis:VISITED]-(b:Business)\\\n",
    "                WHERE vis.scan_timestamp =~ '2022-01-03.*' \\\n",
    "                AND b.business_name =~ '.*Bank.*'\\\n",
    "                RETURN b, p\").data()\n",
    "#pprint.pprint(result)\n",
    "pprint.pprint(len(result))\n"
   ]
  },
  {
   "cell_type": "code",
   "execution_count": null,
   "id": "bedb4228",
   "metadata": {},
   "outputs": [],
   "source": []
  }
 ],
 "metadata": {
  "kernelspec": {
   "display_name": "Python 3 (ipykernel)",
   "language": "python",
   "name": "python3"
  },
  "language_info": {
   "codemirror_mode": {
    "name": "ipython",
    "version": 3
   },
   "file_extension": ".py",
   "mimetype": "text/x-python",
   "name": "python",
   "nbconvert_exporter": "python",
   "pygments_lexer": "ipython3",
   "version": "3.9.7"
  }
 },
 "nbformat": 4,
 "nbformat_minor": 5
}
